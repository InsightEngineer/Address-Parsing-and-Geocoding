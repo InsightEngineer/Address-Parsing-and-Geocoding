{
 "cells": [
  {
   "cell_type": "code",
   "execution_count": 15,
   "metadata": {},
   "outputs": [
    {
     "name": "stdout",
     "output_type": "stream",
     "text": [
      "11301, Baritone Court, Quaint Acres, White Oak, Montgomery County, Maryland, 20901, United States 39.042983 -76.995336\n",
      "None\n"
     ]
    },
    {
     "data": {
      "text/plain": [
       "{'place_id': 354750958,\n",
       " 'licence': 'Data © OpenStreetMap contributors, ODbL 1.0. http://osm.org/copyright',\n",
       " 'osm_type': 'way',\n",
       " 'osm_id': 5991729,\n",
       " 'lat': '39.042983',\n",
       " 'lon': '-76.995336',\n",
       " 'class': 'place',\n",
       " 'type': 'house',\n",
       " 'place_rank': 30,\n",
       " 'importance': 9.99999999995449e-06,\n",
       " 'addresstype': 'place',\n",
       " 'name': '',\n",
       " 'display_name': '11301, Baritone Court, Quaint Acres, White Oak, Montgomery County, Maryland, 20901, United States',\n",
       " 'boundingbox': ['39.0429330', '39.0430330', '-76.9953860', '-76.9952860']}"
      ]
     },
     "execution_count": 15,
     "metadata": {},
     "output_type": "execute_result"
    }
   ],
   "source": [
    "from geopy.geocoders import Nominatim\n",
    "geolocator = Nominatim(user_agent=\"Provider Finder\")\n",
    "\n",
    "# Example usage\n",
    "location = geolocator.geocode(\"11301 Baritone Ct\")\n",
    "print(location.address, location.latitude, location.longitude)\n",
    "\n",
    "print(location.raw.get('street address'))\n",
    "\n",
    "# print the raw json\n",
    "location.raw"
   ]
  },
  {
   "cell_type": "markdown",
   "metadata": {},
   "source": [
    "<font color=#1DA1F2>\n",
    "\n",
    "# Usage with Pandas\n",
    "- It is possible to geocode a pandas DataFrame with geopy, however, rate-limiting must be taken into account.A large number of DataFrame rows might produce a significant amount of geocoding requests to a Geocoding service, which might be throttled by the service (e.g. by returning Too Many Requests 429 HTTP error or timing out).\n",
    "- geopy.extra.rate_limiter classes provide a convenient wrapper, which can be used to automatically add delays between geocoding calls to reduce the load on the Geocoding service. Also it can retry failed requests and swallow errors for individual rows."
   ]
  },
  {
   "cell_type": "code",
   "execution_count": 17,
   "metadata": {},
   "outputs": [
    {
     "data": {
      "text/html": [
       "<div>\n",
       "<style scoped>\n",
       "    .dataframe tbody tr th:only-of-type {\n",
       "        vertical-align: middle;\n",
       "    }\n",
       "\n",
       "    .dataframe tbody tr th {\n",
       "        vertical-align: top;\n",
       "    }\n",
       "\n",
       "    .dataframe thead th {\n",
       "        text-align: right;\n",
       "    }\n",
       "</style>\n",
       "<table border=\"1\" class=\"dataframe\">\n",
       "  <thead>\n",
       "    <tr style=\"text-align: right;\">\n",
       "      <th></th>\n",
       "      <th>name</th>\n",
       "      <th>location</th>\n",
       "      <th>point</th>\n",
       "    </tr>\n",
       "  </thead>\n",
       "  <tbody>\n",
       "    <tr>\n",
       "      <th>0</th>\n",
       "      <td>paris</td>\n",
       "      <td>(Paris, Île-de-France, France métropolitaine, ...</td>\n",
       "      <td>(48.8588897, 2.3200410217200766, 0.0)</td>\n",
       "    </tr>\n",
       "    <tr>\n",
       "      <th>1</th>\n",
       "      <td>berlin</td>\n",
       "      <td>(Berlin, Deutschland, (52.5108638, 13.3989421))</td>\n",
       "      <td>(52.5108638, 13.3989421, 0.0)</td>\n",
       "    </tr>\n",
       "    <tr>\n",
       "      <th>2</th>\n",
       "      <td>london</td>\n",
       "      <td>(London, Greater London, England, United Kingd...</td>\n",
       "      <td>(51.4893335, -0.14405508452768728, 0.0)</td>\n",
       "    </tr>\n",
       "  </tbody>\n",
       "</table>\n",
       "</div>"
      ],
      "text/plain": [
       "     name                                           location  \\\n",
       "0   paris  (Paris, Île-de-France, France métropolitaine, ...   \n",
       "1  berlin    (Berlin, Deutschland, (52.5108638, 13.3989421))   \n",
       "2  london  (London, Greater London, England, United Kingd...   \n",
       "\n",
       "                                     point  \n",
       "0    (48.8588897, 2.3200410217200766, 0.0)  \n",
       "1            (52.5108638, 13.3989421, 0.0)  \n",
       "2  (51.4893335, -0.14405508452768728, 0.0)  "
      ]
     },
     "execution_count": 17,
     "metadata": {},
     "output_type": "execute_result"
    }
   ],
   "source": [
    "import pandas as pd\n",
    "df = pd.DataFrame({'name': ['paris', 'berlin', 'london']})\n",
    "\n",
    "from geopy.geocoders import Nominatim\n",
    "geolocator = Nominatim(user_agent=\"Provider Finder\")\n",
    "\n",
    "from geopy.extra.rate_limiter import RateLimiter\n",
    "geocode = RateLimiter(geolocator.geocode, min_delay_seconds=1)\n",
    "df['location'] = df['name'].apply(geocode)\n",
    "\n",
    "df['point'] = df['location'].apply(lambda loc: tuple(loc.point) if loc else None)\n",
    "df.head()"
   ]
  }
 ],
 "metadata": {
  "kernelspec": {
   "display_name": "AddressParsingGeocoding",
   "language": "python",
   "name": "python3"
  },
  "language_info": {
   "codemirror_mode": {
    "name": "ipython",
    "version": 3
   },
   "file_extension": ".py",
   "mimetype": "text/x-python",
   "name": "python",
   "nbconvert_exporter": "python",
   "pygments_lexer": "ipython3",
   "version": "3.12.4"
  }
 },
 "nbformat": 4,
 "nbformat_minor": 2
}
