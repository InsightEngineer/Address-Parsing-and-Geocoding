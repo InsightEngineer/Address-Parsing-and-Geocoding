{
 "cells": [
  {
   "cell_type": "code",
   "execution_count": 1,
   "metadata": {},
   "outputs": [],
   "source": [
    "# import libraries\n",
    "import os \n",
    "import pandas as pd\n",
    "import numpy as np\n",
    "import requests\n",
    "\n",
    "bing_maps_api_key =os.environ[\"bing_maps_api_key\"]\n",
    "\n",
    "def get_geocode_and_clean_address(street, city, state, zip_code, azure_maps_api_key):\n",
    "    # Construct the full address\n",
    "    address = f\"{street}, {city}, {state} {zip_code}\"\n",
    "    # print the orginal address\n",
    "    print(f\"Original address: {address}\")\n",
    "\n",
    "    # The base URL for the Azure Maps Search Address API\n",
    "    url = 'https://atlas.microsoft.com/search/address/json'\n",
    "\n",
    "    # Parameters for the request\n",
    "    params = {\n",
    "        'api-version': '1.0',\n",
    "        'subscription-key': azure_maps_api_key,\n",
    "        'query': address\n",
    "    }\n",
    "\n",
    "    # Make the request to the Azure Maps Search Address API\n",
    "    response = requests.get(url, params=params)\n",
    "\n",
    "    # Check if the request was successful\n",
    "    if response.status_code == 200:\n",
    "        data = response.json()\n",
    "        # Extract the first result from the response\n",
    "        if 'results' in data and len(data['results']) > 0:\n",
    "            result = data['results'][0]\n",
    "            address = result['address']\n",
    "            position = result['position']\n",
    "            return address['freeformAddress'], position['lat'], position['lon']\n",
    "        else:\n",
    "            return None, None, None\n",
    "    else:\n",
    "        return None, None, None"
   ]
  },
  {
   "cell_type": "code",
   "execution_count": 2,
   "metadata": {},
   "outputs": [
    {
     "name": "stdout",
     "output_type": "stream",
     "text": [
      "Original address: 123 Main St, Springfield, IL 62701\n",
      "Address:  123 West Main Street, Springfield, KY 40069\n",
      "Latitude:  37.68583\n",
      "Longitude:  -85.22258\n"
     ]
    }
   ],
   "source": [
    "# Example usage\n",
    "street = \"123 Main St\"\n",
    "city = \"Springfield\"\n",
    "state = \"IL\"\n",
    "zip_code = \"62701\"\n",
    "address, latitude, longitude = get_geocode_and_clean_address(street, city, state, zip_code, bing_maps_api_key)\n",
    "print(\"Address: \", address)\n",
    "print(\"Latitude: \", latitude)\n",
    "print(\"Longitude: \", longitude)"
   ]
  }
 ],
 "metadata": {
  "kernelspec": {
   "display_name": "AddressParsingGeocoding",
   "language": "python",
   "name": "python3"
  },
  "language_info": {
   "codemirror_mode": {
    "name": "ipython",
    "version": 3
   },
   "file_extension": ".py",
   "mimetype": "text/x-python",
   "name": "python",
   "nbconvert_exporter": "python",
   "pygments_lexer": "ipython3",
   "version": "3.12.4"
  }
 },
 "nbformat": 4,
 "nbformat_minor": 2
}
