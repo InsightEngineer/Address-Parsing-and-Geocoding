{
 "cells": [
  {
   "cell_type": "code",
   "execution_count": null,
   "metadata": {},
   "outputs": [],
   "source": [
    "# df now is a Spark DataFrame containing CSV data from \"Files/Provider/npidata_pfile_20240805-20240811.csv\".\n",
    "df = spark.read.format(\"csv\").option(\"header\",\"true\").load(\"Files/Provider/npidata_pfile_20240805-20240811.csv\")\n",
    "display(df)"
   ]
  }
 ],
 "metadata": {
  "kernelspec": {
   "display_name": "AddressParsingGeocoding",
   "language": "python",
   "name": "python3"
  },
  "language_info": {
   "codemirror_mode": {
    "name": "ipython",
    "version": 3
   },
   "file_extension": ".py",
   "mimetype": "text/x-python",
   "name": "python",
   "nbconvert_exporter": "python",
   "pygments_lexer": "ipython3",
   "version": "3.12.4"
  }
 },
 "nbformat": 4,
 "nbformat_minor": 2
}
