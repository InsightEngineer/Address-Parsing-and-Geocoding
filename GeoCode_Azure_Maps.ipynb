{
 "cells": [
  {
   "cell_type": "markdown",
   "metadata": {},
   "source": [
    "<font color=#2DA2F2>\n",
    "\n",
    "**Azure Maps API**\n",
    "- **Batch Geocoding:** Keep the batch size at 50, which is the maximum allowed by Azure Maps for a single batch request\n",
    "- This implementation should be more efficient as it uses the batch geocoding capability of Azure Maps, reducing the number of API calls and potentially speeding up the process. It also respects rate limits by adding a small delay between batch requests.\n"
   ]
  },
  {
   "cell_type": "code",
   "execution_count": 9,
   "metadata": {},
   "outputs": [],
   "source": [
    "# import libraries\n",
    "import pandas as pd\n",
    "from geopy.geocoders import Nominatim \n",
    "from geopy.exc import GeocoderTimedOut, GeocoderServiceError\n",
    "from tqdm import tqdm\n",
    "import requests\n",
    "import time\n",
    "from tqdm import tqdm\n",
    "import os\n",
    "\n",
    "# set the azure maps api key and define a helper function to geocode addresses in batches\n",
    "azure_maps_key =os.getenv('azure_maps_key')\n",
    "\n",
    "# Function to send a batch request to Azure Maps API\n",
    "def batch_geocode_azure(addresses, api_key):\n",
    "    url = \"https://atlas.microsoft.com/search/address/batch/json\"\n",
    "    headers = {\n",
    "        'Content-Type': 'application/json',\n",
    "        'subscription-key': api_key\n",
    "    }\n",
    "    \n",
    "    # Prepare batch request payload\n",
    "    batch_request = {\n",
    "        \"batchItems\": [{\"query\": address} for address in addresses]\n",
    "    }\n",
    "    \n",
    "    try:\n",
    "        response = requests.post(url, json=batch_request, headers=headers)\n",
    "        if response.status_code == 200:\n",
    "            data = response.json()\n",
    "            results = []\n",
    "            for item in data['batchItems']:\n",
    "                address = item['query']\n",
    "                if item['statusCode'] == 200 and item['response']['summary']['numResults'] > 0:\n",
    "                    coordinates = item['response']['results'][0]['position']\n",
    "                    results.append((address, coordinates['lat'], coordinates['lon']))\n",
    "                else:\n",
    "                    results.append((address, None, None))\n",
    "            return results\n",
    "        else:\n",
    "            print(f\"Batch request failed with status code: {response.status_code}\")\n",
    "            return [(address, None, None) for address in addresses]\n",
    "    except requests.exceptions.RequestException as e:\n",
    "        print(f\"Request failed: {e}\")\n",
    "        return [(address, None, None) for address in addresses]"
   ]
  },
  {
   "cell_type": "markdown",
   "metadata": {},
   "source": [
    "<font color=#1DA1F2>\n",
    "\n",
    "**Extract and Clean Addresses**"
   ]
  },
  {
   "cell_type": "code",
   "execution_count": 10,
   "metadata": {},
   "outputs": [
    {
     "data": {
      "text/html": [
       "<div>\n",
       "<style scoped>\n",
       "    .dataframe tbody tr th:only-of-type {\n",
       "        vertical-align: middle;\n",
       "    }\n",
       "\n",
       "    .dataframe tbody tr th {\n",
       "        vertical-align: top;\n",
       "    }\n",
       "\n",
       "    .dataframe thead th {\n",
       "        text-align: right;\n",
       "    }\n",
       "</style>\n",
       "<table border=\"1\" class=\"dataframe\">\n",
       "  <thead>\n",
       "    <tr style=\"text-align: right;\">\n",
       "      <th></th>\n",
       "      <th>NPI</th>\n",
       "      <th>Full Name</th>\n",
       "      <th>Street</th>\n",
       "      <th>City</th>\n",
       "      <th>State</th>\n",
       "      <th>Zip Code</th>\n",
       "      <th>Clean_address</th>\n",
       "    </tr>\n",
       "  </thead>\n",
       "  <tbody>\n",
       "    <tr>\n",
       "      <th>14330</th>\n",
       "      <td>1770172058</td>\n",
       "      <td>REALEGENO-ARELLANO, ANGIE ABLEEN</td>\n",
       "      <td>1605 ROCK PRAIRIE RD STE 315</td>\n",
       "      <td>COLLEGE STATION</td>\n",
       "      <td>TX</td>\n",
       "      <td>77845</td>\n",
       "      <td>1605 ROCK PRAIRIE RD STE 315, COLLEGE STATION,...</td>\n",
       "    </tr>\n",
       "    <tr>\n",
       "      <th>22635</th>\n",
       "      <td>1740012947</td>\n",
       "      <td>EGHAREVBA, CHRISTY O</td>\n",
       "      <td>9 SPARROW RD</td>\n",
       "      <td>CARPENTERSVILLE</td>\n",
       "      <td>IL</td>\n",
       "      <td>60110</td>\n",
       "      <td>9 SPARROW RD, CARPENTERSVILLE, IL 60110</td>\n",
       "    </tr>\n",
       "    <tr>\n",
       "      <th>3948</th>\n",
       "      <td>1952024952</td>\n",
       "      <td>LARREA, AMANDA R</td>\n",
       "      <td>12004 S ROUTE 59 UNIT 100</td>\n",
       "      <td>PLAINFIELD</td>\n",
       "      <td>IL</td>\n",
       "      <td>60585</td>\n",
       "      <td>12004 S ROUTE 59 UNIT 100, PLAINFIELD, IL 60585</td>\n",
       "    </tr>\n",
       "    <tr>\n",
       "      <th>1754</th>\n",
       "      <td>1053142075</td>\n",
       "      <td>QUINN, MAUREEN K</td>\n",
       "      <td>128 PARKER AVE S</td>\n",
       "      <td>BROOKLET</td>\n",
       "      <td>GA</td>\n",
       "      <td>30415</td>\n",
       "      <td>128 PARKER AVE S, BROOKLET, GA 30415</td>\n",
       "    </tr>\n",
       "    <tr>\n",
       "      <th>26165</th>\n",
       "      <td>1366274482</td>\n",
       "      <td>CALLENDER, ASHLEY ELIZABETH</td>\n",
       "      <td>590 HARDING AVE</td>\n",
       "      <td>MILLS</td>\n",
       "      <td>WY</td>\n",
       "      <td>82604</td>\n",
       "      <td>590 HARDING AVE, MILLS, WY 82604</td>\n",
       "    </tr>\n",
       "    <tr>\n",
       "      <th>3073</th>\n",
       "      <td>1285465153</td>\n",
       "      <td>SMITH, ASHLEY S</td>\n",
       "      <td>1 ELIZABETH PL</td>\n",
       "      <td>DAYTON</td>\n",
       "      <td>OH</td>\n",
       "      <td>45417</td>\n",
       "      <td>1 ELIZABETH PL, DAYTON, OH 45417</td>\n",
       "    </tr>\n",
       "    <tr>\n",
       "      <th>11693</th>\n",
       "      <td>1649458365</td>\n",
       "      <td>FELDER, MICHELLE RENAAY HARRIS</td>\n",
       "      <td>8432 107TH ST</td>\n",
       "      <td>RICHMOND HILL</td>\n",
       "      <td>NY</td>\n",
       "      <td>11418</td>\n",
       "      <td>8432 107TH ST, RICHMOND HILL, NY 11418</td>\n",
       "    </tr>\n",
       "    <tr>\n",
       "      <th>1462</th>\n",
       "      <td>1033222732</td>\n",
       "      <td>KLASS, BRENDA M</td>\n",
       "      <td>16550 VENTURA BLVD</td>\n",
       "      <td>ENCINO</td>\n",
       "      <td>CA</td>\n",
       "      <td>91436</td>\n",
       "      <td>16550 VENTURA BLVD, ENCINO, CA 91436</td>\n",
       "    </tr>\n",
       "    <tr>\n",
       "      <th>3712</th>\n",
       "      <td>1316778210</td>\n",
       "      <td>SHEN, ANGIE M</td>\n",
       "      <td>11040 BOLLINGER CANYON RD # 155</td>\n",
       "      <td>SAN RAMON</td>\n",
       "      <td>CA</td>\n",
       "      <td>94582</td>\n",
       "      <td>11040 BOLLINGER CANYON RD # 155, SAN RAMON, CA...</td>\n",
       "    </tr>\n",
       "    <tr>\n",
       "      <th>13496</th>\n",
       "      <td>1841227568</td>\n",
       "      <td>ONUCHUKWU-AZUONYE, CHINONYE OGECHI</td>\n",
       "      <td>1118 FERRY ST</td>\n",
       "      <td>RICHMOND</td>\n",
       "      <td>TX</td>\n",
       "      <td>77469</td>\n",
       "      <td>1118 FERRY ST, RICHMOND, TX 77469</td>\n",
       "    </tr>\n",
       "    <tr>\n",
       "      <th>1122</th>\n",
       "      <td>1740459957</td>\n",
       "      <td>CARDWELL, CAROLYN ANN</td>\n",
       "      <td>1601 BRENNER AVE</td>\n",
       "      <td>SALISBURY</td>\n",
       "      <td>NC</td>\n",
       "      <td>28144</td>\n",
       "      <td>1601 BRENNER AVE, SALISBURY, NC 28144</td>\n",
       "    </tr>\n",
       "    <tr>\n",
       "      <th>20566</th>\n",
       "      <td>1962234278</td>\n",
       "      <td>HUSSAIN, AISHA SAFIYA</td>\n",
       "      <td>3001 SAINT JOHNS BLVD</td>\n",
       "      <td>JOPLIN</td>\n",
       "      <td>MO</td>\n",
       "      <td>64804</td>\n",
       "      <td>3001 SAINT JOHNS BLVD, JOPLIN, MO 64804</td>\n",
       "    </tr>\n",
       "    <tr>\n",
       "      <th>13856</th>\n",
       "      <td>1578946430</td>\n",
       "      <td>LABARGE, JULIA N</td>\n",
       "      <td>9640D 16TH AVE SW</td>\n",
       "      <td>SEATTLE</td>\n",
       "      <td>WA</td>\n",
       "      <td>98106</td>\n",
       "      <td>9640D 16TH AVE SW, SEATTLE, WA 98106</td>\n",
       "    </tr>\n",
       "    <tr>\n",
       "      <th>19900</th>\n",
       "      <td>1336182336</td>\n",
       "      <td>LASSETER, DEAN BRIAN</td>\n",
       "      <td>551 VETERANS UNITED DR</td>\n",
       "      <td>COLUMBIA</td>\n",
       "      <td>MO</td>\n",
       "      <td>65201</td>\n",
       "      <td>551 VETERANS UNITED DR, COLUMBIA, MO 65201</td>\n",
       "    </tr>\n",
       "    <tr>\n",
       "      <th>4476</th>\n",
       "      <td>1316778244</td>\n",
       "      <td>PADRON DIAZ, BARBARA ESTRELLA</td>\n",
       "      <td>20715 SW 120TH CT</td>\n",
       "      <td>MIAMI</td>\n",
       "      <td>FL</td>\n",
       "      <td>33177</td>\n",
       "      <td>20715 SW 120TH CT, MIAMI, FL 33177</td>\n",
       "    </tr>\n",
       "  </tbody>\n",
       "</table>\n",
       "</div>"
      ],
      "text/plain": [
       "              NPI                           Full Name  \\\n",
       "14330  1770172058    REALEGENO-ARELLANO, ANGIE ABLEEN   \n",
       "22635  1740012947                EGHAREVBA, CHRISTY O   \n",
       "3948   1952024952                    LARREA, AMANDA R   \n",
       "1754   1053142075                    QUINN, MAUREEN K   \n",
       "26165  1366274482         CALLENDER, ASHLEY ELIZABETH   \n",
       "3073   1285465153                     SMITH, ASHLEY S   \n",
       "11693  1649458365      FELDER, MICHELLE RENAAY HARRIS   \n",
       "1462   1033222732                     KLASS, BRENDA M   \n",
       "3712   1316778210                       SHEN, ANGIE M   \n",
       "13496  1841227568  ONUCHUKWU-AZUONYE, CHINONYE OGECHI   \n",
       "1122   1740459957               CARDWELL, CAROLYN ANN   \n",
       "20566  1962234278               HUSSAIN, AISHA SAFIYA   \n",
       "13856  1578946430                    LABARGE, JULIA N   \n",
       "19900  1336182336                LASSETER, DEAN BRIAN   \n",
       "4476   1316778244       PADRON DIAZ, BARBARA ESTRELLA   \n",
       "\n",
       "                                Street             City State  Zip Code  \\\n",
       "14330     1605 ROCK PRAIRIE RD STE 315  COLLEGE STATION    TX     77845   \n",
       "22635                     9 SPARROW RD  CARPENTERSVILLE    IL     60110   \n",
       "3948         12004 S ROUTE 59 UNIT 100       PLAINFIELD    IL     60585   \n",
       "1754                  128 PARKER AVE S         BROOKLET    GA     30415   \n",
       "26165                  590 HARDING AVE            MILLS    WY     82604   \n",
       "3073                    1 ELIZABETH PL           DAYTON    OH     45417   \n",
       "11693                    8432 107TH ST    RICHMOND HILL    NY     11418   \n",
       "1462                16550 VENTURA BLVD           ENCINO    CA     91436   \n",
       "3712   11040 BOLLINGER CANYON RD # 155        SAN RAMON    CA     94582   \n",
       "13496                    1118 FERRY ST         RICHMOND    TX     77469   \n",
       "1122                  1601 BRENNER AVE        SALISBURY    NC     28144   \n",
       "20566            3001 SAINT JOHNS BLVD           JOPLIN    MO     64804   \n",
       "13856                9640D 16TH AVE SW          SEATTLE    WA     98106   \n",
       "19900           551 VETERANS UNITED DR         COLUMBIA    MO     65201   \n",
       "4476                 20715 SW 120TH CT            MIAMI    FL     33177   \n",
       "\n",
       "                                           Clean_address  \n",
       "14330  1605 ROCK PRAIRIE RD STE 315, COLLEGE STATION,...  \n",
       "22635            9 SPARROW RD, CARPENTERSVILLE, IL 60110  \n",
       "3948     12004 S ROUTE 59 UNIT 100, PLAINFIELD, IL 60585  \n",
       "1754                128 PARKER AVE S, BROOKLET, GA 30415  \n",
       "26165                   590 HARDING AVE, MILLS, WY 82604  \n",
       "3073                    1 ELIZABETH PL, DAYTON, OH 45417  \n",
       "11693             8432 107TH ST, RICHMOND HILL, NY 11418  \n",
       "1462                16550 VENTURA BLVD, ENCINO, CA 91436  \n",
       "3712   11040 BOLLINGER CANYON RD # 155, SAN RAMON, CA...  \n",
       "13496                  1118 FERRY ST, RICHMOND, TX 77469  \n",
       "1122               1601 BRENNER AVE, SALISBURY, NC 28144  \n",
       "20566            3001 SAINT JOHNS BLVD, JOPLIN, MO 64804  \n",
       "13856               9640D 16TH AVE SW, SEATTLE, WA 98106  \n",
       "19900         551 VETERANS UNITED DR, COLUMBIA, MO 65201  \n",
       "4476                  20715 SW 120TH CT, MIAMI, FL 33177  "
      ]
     },
     "execution_count": 10,
     "metadata": {},
     "output_type": "execute_result"
    }
   ],
   "source": [
    "# Load the CSV file into a DataFrame\n",
    "df = pd.read_csv('data/npidata_pfile.csv')\n",
    "\n",
    "# Extract the first 5 digits of the zip code ,ensure that the zip code is an integer\n",
    "df['Zip Code'] = df['Zip Code'].apply(lambda x: int(x / 10**(len(str(int(x))) - 5)) if not pd.isna(x) else x).astype('Int64')\n",
    "# combine the names provider to create a full name column, ensure that the names are strings and it should be last name, first name middle name format \n",
    "df['Full Name'] = df['Provider Last Name'] + ', ' + df['Provider First Name'] + ' ' + df['Provider Middle Name']\n",
    "\n",
    "df=df[['NPI','Full Name','Street','City','State','Zip Code']]\n",
    "# drop rows with missing values of street 1,full name\n",
    "df = df.dropna(subset=['Street','Full Name'])\n",
    "# drop duplicates\n",
    "df = df.drop_duplicates()\n",
    "# prepare the addresses for geocoding. Create new column for Clean_address\n",
    "df['Clean_address'] = df.apply(lambda row: f\"{row['Street']}, {row['City']}, {row['State']} {row['Zip Code']}\", axis=1)\n",
    "# print(df.shape)\n",
    "# randomly sample 1000 rows\n",
    "df = df.sample(1000)\n",
    "df.sample(15)\n"
   ]
  },
  {
   "cell_type": "markdown",
   "metadata": {},
   "source": [
    "<font color=#1DA1F2>\n",
    "\n",
    "**Batch Geocoding with Azure Maps API**"
   ]
  },
  {
   "cell_type": "code",
   "execution_count": 11,
   "metadata": {},
   "outputs": [
    {
     "name": "stderr",
     "output_type": "stream",
     "text": [
      "Processing batches:   0%|          | 0/20 [00:00<?, ?it/s]"
     ]
    },
    {
     "name": "stdout",
     "output_type": "stream",
     "text": [
      "Batch request failed with status code: 401\n"
     ]
    },
    {
     "name": "stderr",
     "output_type": "stream",
     "text": [
      "Processing batches:   5%|▌         | 1/20 [00:01<00:20,  1.07s/it]"
     ]
    },
    {
     "name": "stdout",
     "output_type": "stream",
     "text": [
      "Batch request failed with status code: 401\n"
     ]
    },
    {
     "name": "stderr",
     "output_type": "stream",
     "text": [
      "Processing batches:  10%|█         | 2/20 [00:02<00:18,  1.05s/it]"
     ]
    },
    {
     "name": "stdout",
     "output_type": "stream",
     "text": [
      "Batch request failed with status code: 401\n"
     ]
    },
    {
     "name": "stderr",
     "output_type": "stream",
     "text": [
      "Processing batches:  15%|█▌        | 3/20 [00:03<00:17,  1.05s/it]"
     ]
    },
    {
     "name": "stdout",
     "output_type": "stream",
     "text": [
      "Batch request failed with status code: 401\n"
     ]
    },
    {
     "name": "stderr",
     "output_type": "stream",
     "text": [
      "Processing batches:  20%|██        | 4/20 [00:04<00:16,  1.05s/it]"
     ]
    },
    {
     "name": "stdout",
     "output_type": "stream",
     "text": [
      "Batch request failed with status code: 401\n"
     ]
    },
    {
     "name": "stderr",
     "output_type": "stream",
     "text": [
      "Processing batches:  25%|██▌       | 5/20 [00:05<00:15,  1.05s/it]"
     ]
    },
    {
     "name": "stdout",
     "output_type": "stream",
     "text": [
      "Batch request failed with status code: 401\n"
     ]
    },
    {
     "name": "stderr",
     "output_type": "stream",
     "text": [
      "Processing batches:  30%|███       | 6/20 [00:06<00:14,  1.04s/it]"
     ]
    },
    {
     "name": "stdout",
     "output_type": "stream",
     "text": [
      "Batch request failed with status code: 401\n"
     ]
    },
    {
     "name": "stderr",
     "output_type": "stream",
     "text": [
      "Processing batches:  35%|███▌      | 7/20 [00:07<00:13,  1.04s/it]"
     ]
    },
    {
     "name": "stdout",
     "output_type": "stream",
     "text": [
      "Batch request failed with status code: 401\n"
     ]
    },
    {
     "name": "stderr",
     "output_type": "stream",
     "text": [
      "Processing batches:  40%|████      | 8/20 [00:08<00:12,  1.04s/it]"
     ]
    },
    {
     "name": "stdout",
     "output_type": "stream",
     "text": [
      "Batch request failed with status code: 401\n"
     ]
    },
    {
     "name": "stderr",
     "output_type": "stream",
     "text": [
      "Processing batches:  45%|████▌     | 9/20 [00:09<00:11,  1.04s/it]"
     ]
    },
    {
     "name": "stdout",
     "output_type": "stream",
     "text": [
      "Batch request failed with status code: 401\n"
     ]
    },
    {
     "name": "stderr",
     "output_type": "stream",
     "text": [
      "Processing batches:  50%|█████     | 10/20 [00:10<00:10,  1.04s/it]"
     ]
    },
    {
     "name": "stdout",
     "output_type": "stream",
     "text": [
      "Batch request failed with status code: 401\n"
     ]
    },
    {
     "name": "stderr",
     "output_type": "stream",
     "text": [
      "Processing batches:  55%|█████▌    | 11/20 [00:11<00:09,  1.04s/it]"
     ]
    },
    {
     "name": "stdout",
     "output_type": "stream",
     "text": [
      "Batch request failed with status code: 401\n"
     ]
    },
    {
     "name": "stderr",
     "output_type": "stream",
     "text": [
      "Processing batches:  60%|██████    | 12/20 [00:12<00:08,  1.04s/it]"
     ]
    },
    {
     "name": "stdout",
     "output_type": "stream",
     "text": [
      "Batch request failed with status code: 401\n"
     ]
    },
    {
     "name": "stderr",
     "output_type": "stream",
     "text": [
      "Processing batches:  60%|██████    | 12/20 [00:13<00:09,  1.13s/it]\n"
     ]
    },
    {
     "ename": "KeyboardInterrupt",
     "evalue": "",
     "output_type": "error",
     "traceback": [
      "\u001b[1;31m---------------------------------------------------------------------------\u001b[0m",
      "\u001b[1;31mKeyboardInterrupt\u001b[0m                         Traceback (most recent call last)",
      "Cell \u001b[1;32mIn[11], line 12\u001b[0m\n\u001b[0;32m     10\u001b[0m     results \u001b[38;5;241m=\u001b[39m batch_geocode_azure(batch, azure_maps_key)\n\u001b[0;32m     11\u001b[0m     all_results_azure\u001b[38;5;241m.\u001b[39mextend(results)\n\u001b[1;32m---> 12\u001b[0m     time\u001b[38;5;241m.\u001b[39msleep(\u001b[38;5;241m1\u001b[39m)  \u001b[38;5;66;03m# Add a small delay between batches to respect rate limits\u001b[39;00m\n\u001b[0;32m     14\u001b[0m \u001b[38;5;66;03m# Create new columns in the existing DataFrame\u001b[39;00m\n\u001b[0;32m     15\u001b[0m df[\u001b[38;5;124m'\u001b[39m\u001b[38;5;124mlatitude\u001b[39m\u001b[38;5;124m'\u001b[39m] \u001b[38;5;241m=\u001b[39m \u001b[38;5;28;01mNone\u001b[39;00m\n",
      "\u001b[1;31mKeyboardInterrupt\u001b[0m: "
     ]
    }
   ],
   "source": [
    "# Prepare addresses for geocoding\n",
    "addresses = df['Clean_address'].tolist()\n",
    "\n",
    "# Send addresses in batches\n",
    "batch_size = 50  # Azure Maps supports up to 50 addresses per batch\n",
    "batches = [addresses[i:i + batch_size] for i in range(0, len(addresses), batch_size)]\n",
    "all_results_azure = []\n",
    "\n",
    "for batch in tqdm(batches, desc=\"Processing batches\"):\n",
    "    results = batch_geocode_azure(batch, azure_maps_key)\n",
    "    all_results_azure.extend(results)\n",
    "    time.sleep(1)  # Add a small delay between batches to respect rate limits\n",
    "\n",
    "# Create new columns in the existing DataFrame\n",
    "df['latitude'] = None\n",
    "df['longitude'] = None\n",
    "\n",
    "# Update the DataFrame with geocoding results\n",
    "for address, lat, lon in all_results_azure:\n",
    "    mask = df['Clean_address'] == address\n",
    "    df.loc[mask, 'latitude'] = lat\n",
    "    df.loc[mask, 'longitude'] = lon\n",
    "\n",
    "# Display the first few rows to verify\n",
    "print(df[['Clean_address', 'latitude', 'longitude']].head())\n",
    "\n",
    "# Save the updated DataFrame to a new CSV file\n",
    "df.to_csv('data/npidata_pfile_AzureMaps _with_coordinates.csv', index=False)\n",
    "\n",
    "df.sample(15)"
   ]
  },
  {
   "cell_type": "code",
   "execution_count": null,
   "metadata": {},
   "outputs": [],
   "source": [
    "# Prepare addresses for geocoding\n",
    "addresses = df['Clean_address'].tolist()\n",
    "\n",
    "# Send addresses in batches\n",
    "batch_size = 50  # Azure Maps supports up to 50 addresses per batch\n",
    "batches = [addresses[i:i + batch_size] for i in range(0, len(addresses), batch_size)]\n",
    "all_results_azure = []\n",
    "\n",
    "for batch in tqdm(batches, desc=\"Processing batches\"):\n",
    "    results = batch_geocode_azure(batch, azure_maps_key)\n",
    "    all_results_azure.extend(results)\n",
    "    time.sleep(1)  # Add a small delay between batches to respect rate limits\n",
    "\n",
    "# Convert results to a DataFrame\n",
    "geocoded_data_azure = pd.DataFrame(all_results_azure, columns=['Clean_address', 'latitude', 'longitude'])\n",
    "\n",
    "# Merge geocoded data with original DataFrame\n",
    "df = df.merge(geocoded_data_azure, on='Clean_address', how='left')\n",
    "\n",
    "# Display the first few rows to verify\n",
    "print(df[['Clean_address', 'latitude', 'longitude']].head())\n",
    "\n",
    "# Save the updated DataFrame to a new CSV file\n",
    "df.to_csv('data/npidata_pfile_small_with_coordinates_azure.csv', index=False)\n",
    "\n",
    "print(\"The file with the new columns added has been saved as npidata_pfile_small_with_coordinates_azure.csv\")"
   ]
  }
 ],
 "metadata": {
  "kernelspec": {
   "display_name": "py",
   "language": "python",
   "name": "python3"
  },
  "language_info": {
   "codemirror_mode": {
    "name": "ipython",
    "version": 3
   },
   "file_extension": ".py",
   "mimetype": "text/x-python",
   "name": "python",
   "nbconvert_exporter": "python",
   "pygments_lexer": "ipython3",
   "version": "3.12.4"
  }
 },
 "nbformat": 4,
 "nbformat_minor": 2
}
